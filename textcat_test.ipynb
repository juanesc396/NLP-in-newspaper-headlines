{
 "cells": [
  {
   "cell_type": "code",
   "execution_count": 9,
   "id": "9d86d4a4",
   "metadata": {
    "scrolled": true
   },
   "outputs": [],
   "source": [
    "import spacy\n",
    "import pandas as pd\n",
    "import json"
   ]
  },
  {
   "cell_type": "code",
   "execution_count": 10,
   "id": "904d5a97",
   "metadata": {},
   "outputs": [],
   "source": [
    "# Reading the test .csv\n",
    "headlines = pd.read_csv('./datasets/test.csv', names=['title', 'cats'])\n",
    "headlines.drop(index = 0, inplace = True)"
   ]
  },
  {
   "cell_type": "code",
   "execution_count": 11,
   "id": "89fc0eaf",
   "metadata": {},
   "outputs": [
    {
     "data": {
      "text/plain": [
       "'Blinken espera que China \"no fabrique\" una crisis en Taiwán para \"aumentar su agresiva actividad militar\"'"
      ]
     },
     "execution_count": 11,
     "metadata": {},
     "output_type": "execute_result"
    }
   ],
   "source": [
    "hl_1 = headlines['title'][26]\n",
    "hl_1"
   ]
  },
  {
   "cell_type": "code",
   "execution_count": 12,
   "id": "57a2a31c",
   "metadata": {},
   "outputs": [
    {
     "data": {
      "text/plain": [
       "'El sueldo de los profesores de Religión que paga el Estado bate su récord con 115 millones de euros'"
      ]
     },
     "execution_count": 12,
     "metadata": {},
     "output_type": "execute_result"
    }
   ],
   "source": [
    "hl_2 = headlines['title'][2]\n",
    "hl_2"
   ]
  },
  {
   "cell_type": "code",
   "execution_count": 13,
   "id": "678bf475",
   "metadata": {},
   "outputs": [
    {
     "data": {
      "text/plain": [
       "True"
      ]
     },
     "execution_count": 13,
     "metadata": {},
     "output_type": "execute_result"
    }
   ],
   "source": [
    "# Loading the model\n",
    "nlp = spacy.load(\"./textcat-model/model-best\")\n",
    "spacy.prefer_gpu()"
   ]
  },
  {
   "cell_type": "code",
   "execution_count": 14,
   "id": "4fcc8f3a",
   "metadata": {},
   "outputs": [
    {
     "data": {
      "text/plain": [
       "['textcat']"
      ]
     },
     "execution_count": 14,
     "metadata": {},
     "output_type": "execute_result"
    }
   ],
   "source": [
    "nlp.pipe_names"
   ]
  },
  {
   "cell_type": "code",
   "execution_count": 15,
   "id": "b6455911",
   "metadata": {},
   "outputs": [
    {
     "data": {
      "text/plain": [
       "{'POSITIVE': 0.044040244072675705, 'NEGATIVE': 0.9559597373008728}"
      ]
     },
     "execution_count": 15,
     "metadata": {},
     "output_type": "execute_result"
    }
   ],
   "source": [
    "# Predicting with the model\n",
    "doc = nlp(hl_1)\n",
    "doc.cats"
   ]
  },
  {
   "cell_type": "code",
   "execution_count": 16,
   "id": "92c356cd",
   "metadata": {},
   "outputs": [
    {
     "data": {
      "text/plain": [
       "{'POSITIVE': 0.966907799243927, 'NEGATIVE': 0.03309216722846031}"
      ]
     },
     "execution_count": 16,
     "metadata": {},
     "output_type": "execute_result"
    }
   ],
   "source": [
    "# Predicting with the model\n",
    "doc = nlp(hl_2)\n",
    "doc.cats"
   ]
  }
 ],
 "metadata": {
  "kernelspec": {
   "display_name": "Python 3 (ipykernel)",
   "language": "python",
   "name": "python3"
  },
  "language_info": {
   "codemirror_mode": {
    "name": "ipython",
    "version": 3
   },
   "file_extension": ".py",
   "mimetype": "text/x-python",
   "name": "python",
   "nbconvert_exporter": "python",
   "pygments_lexer": "ipython3",
   "version": "3.9.13"
  }
 },
 "nbformat": 4,
 "nbformat_minor": 5
}
