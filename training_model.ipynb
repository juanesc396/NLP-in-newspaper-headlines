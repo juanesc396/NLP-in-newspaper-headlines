{
 "cells": [
  {
   "cell_type": "code",
   "execution_count": 30,
   "id": "477e9b63",
   "metadata": {},
   "outputs": [
    {
     "data": {
      "text/plain": [
       "True"
      ]
     },
     "execution_count": 30,
     "metadata": {},
     "output_type": "execute_result"
    }
   ],
   "source": [
    "import pandas as pd\n",
    "import random\n",
    "import matplotlib.pyplot as plt\n",
    "\n",
    "import spacy\n",
    "from spacy.tokens import DocBin\n",
    "spacy.prefer_gpu()"
   ]
  },
  {
   "cell_type": "code",
   "execution_count": 22,
   "id": "c8b8fb31",
   "metadata": {},
   "outputs": [],
   "source": [
    "def evaluate(data):\n",
    "    # This function evaluates if the model predict correctly the categorization of the title.\n",
    "    nlp = spacy.load(\"./textcat-model/model-best\")\n",
    "    prediction = 0.5\n",
    "    fp, fn, tp, tn = 0, 0, 0, 0\n",
    "    \n",
    "    for i in data:\n",
    "        doc = nlp(i[0])\n",
    "        cats = doc.cats\n",
    "        if cats['NEGATIVE'] > prediction and i[1]['cats']['NEGATIVE'] == True:\n",
    "            tn += 1\n",
    "        elif cats['NEGATIVE'] > prediction and i[1]['cats']['NEGATIVE'] == False:\n",
    "            fn += 1\n",
    "        elif cats['POSITIVE'] > prediction and i[1]['cats']['POSITIVE'] == True:\n",
    "            tp += 1\n",
    "        elif cats['POSITIVE'] > prediction and i[1]['cats']['POSITIVE'] == False:\n",
    "            fp =+ 1\n",
    "    temp = {\"TrueNegative\": tn, \"FalseNegative\": fn, \"TruePositive\": tp, \"FalsePositive\": fp}\n",
    "\n",
    "    return temp"
   ]
  },
  {
   "cell_type": "code",
   "execution_count": 5,
   "id": "7314b31c",
   "metadata": {},
   "outputs": [],
   "source": [
    "def categorization(row):\n",
    "        if row['valoration'] == 1:\n",
    "            return {\"POSITIVE\": True, \"NEGATIVE\": False}\n",
    "        elif row['valoration'] == 0:\n",
    "            return {\"POSITIVE\": False, \"NEGATIVE\": True}\n",
    "        "
   ]
  },
  {
   "cell_type": "code",
   "execution_count": 3,
   "id": "cfec454c",
   "metadata": {},
   "outputs": [],
   "source": [
    "train_data_raw = pd.read_excel('./datasets/train_data.xlsx')"
   ]
  },
  {
   "cell_type": "code",
   "execution_count": 6,
   "id": "227771a5",
   "metadata": {},
   "outputs": [],
   "source": [
    "train_data_raw['cats'] = train_data_raw.apply(categorization, axis = 1)"
   ]
  },
  {
   "cell_type": "code",
   "execution_count": 7,
   "id": "097e5fc0",
   "metadata": {},
   "outputs": [
    {
     "data": {
      "text/html": [
       "<div>\n",
       "<style scoped>\n",
       "    .dataframe tbody tr th:only-of-type {\n",
       "        vertical-align: middle;\n",
       "    }\n",
       "\n",
       "    .dataframe tbody tr th {\n",
       "        vertical-align: top;\n",
       "    }\n",
       "\n",
       "    .dataframe thead th {\n",
       "        text-align: right;\n",
       "    }\n",
       "</style>\n",
       "<table border=\"1\" class=\"dataframe\">\n",
       "  <thead>\n",
       "    <tr style=\"text-align: right;\">\n",
       "      <th></th>\n",
       "      <th>title</th>\n",
       "      <th>valoration</th>\n",
       "      <th>cats</th>\n",
       "    </tr>\n",
       "  </thead>\n",
       "  <tbody>\n",
       "    <tr>\n",
       "      <th>0</th>\n",
       "      <td>Hito científico: consiguen restaurar la activi...</td>\n",
       "      <td>1</td>\n",
       "      <td>{'POSITIVE': True, 'NEGATIVE': False}</td>\n",
       "    </tr>\n",
       "    <tr>\n",
       "      <th>1</th>\n",
       "      <td>¡Ofertón en Amazon!: Esta Tablet con Windows 1...</td>\n",
       "      <td>1</td>\n",
       "      <td>{'POSITIVE': True, 'NEGATIVE': False}</td>\n",
       "    </tr>\n",
       "    <tr>\n",
       "      <th>2</th>\n",
       "      <td>Esta playa española ha sido elegida como la me...</td>\n",
       "      <td>1</td>\n",
       "      <td>{'POSITIVE': True, 'NEGATIVE': False}</td>\n",
       "    </tr>\n",
       "    <tr>\n",
       "      <th>3</th>\n",
       "      <td>Beneficios del humor: por qué reír nos hace ta...</td>\n",
       "      <td>1</td>\n",
       "      <td>{'POSITIVE': True, 'NEGATIVE': False}</td>\n",
       "    </tr>\n",
       "    <tr>\n",
       "      <th>4</th>\n",
       "      <td>España es la mejor del mundo en piragüismo: oc...</td>\n",
       "      <td>1</td>\n",
       "      <td>{'POSITIVE': True, 'NEGATIVE': False}</td>\n",
       "    </tr>\n",
       "    <tr>\n",
       "      <th>...</th>\n",
       "      <td>...</td>\n",
       "      <td>...</td>\n",
       "      <td>...</td>\n",
       "    </tr>\n",
       "    <tr>\n",
       "      <th>162</th>\n",
       "      <td>Le patearon la puerta de su casa, fue a ver y ...</td>\n",
       "      <td>0</td>\n",
       "      <td>{'POSITIVE': False, 'NEGATIVE': True}</td>\n",
       "    </tr>\n",
       "    <tr>\n",
       "      <th>163</th>\n",
       "      <td>Transporte: persisten las quejas de usuarios y...</td>\n",
       "      <td>0</td>\n",
       "      <td>{'POSITIVE': False, 'NEGATIVE': True}</td>\n",
       "    </tr>\n",
       "    <tr>\n",
       "      <th>164</th>\n",
       "      <td>Colón jugó mal y la sacó barata: cayó por 1 a ...</td>\n",
       "      <td>0</td>\n",
       "      <td>{'POSITIVE': False, 'NEGATIVE': True}</td>\n",
       "    </tr>\n",
       "    <tr>\n",
       "      <th>165</th>\n",
       "      <td>Habló el primer médico francés que intentó soc...</td>\n",
       "      <td>0</td>\n",
       "      <td>{'POSITIVE': False, 'NEGATIVE': True}</td>\n",
       "    </tr>\n",
       "    <tr>\n",
       "      <th>166</th>\n",
       "      <td>Cómo funciona Bienvenidos a mi Pueblo, el prog...</td>\n",
       "      <td>1</td>\n",
       "      <td>{'POSITIVE': True, 'NEGATIVE': False}</td>\n",
       "    </tr>\n",
       "  </tbody>\n",
       "</table>\n",
       "<p>167 rows × 3 columns</p>\n",
       "</div>"
      ],
      "text/plain": [
       "                                                 title  valoration  \\\n",
       "0    Hito científico: consiguen restaurar la activi...           1   \n",
       "1    ¡Ofertón en Amazon!: Esta Tablet con Windows 1...           1   \n",
       "2    Esta playa española ha sido elegida como la me...           1   \n",
       "3    Beneficios del humor: por qué reír nos hace ta...           1   \n",
       "4    España es la mejor del mundo en piragüismo: oc...           1   \n",
       "..                                                 ...         ...   \n",
       "162  Le patearon la puerta de su casa, fue a ver y ...           0   \n",
       "163  Transporte: persisten las quejas de usuarios y...           0   \n",
       "164  Colón jugó mal y la sacó barata: cayó por 1 a ...           0   \n",
       "165  Habló el primer médico francés que intentó soc...           0   \n",
       "166  Cómo funciona Bienvenidos a mi Pueblo, el prog...           1   \n",
       "\n",
       "                                      cats  \n",
       "0    {'POSITIVE': True, 'NEGATIVE': False}  \n",
       "1    {'POSITIVE': True, 'NEGATIVE': False}  \n",
       "2    {'POSITIVE': True, 'NEGATIVE': False}  \n",
       "3    {'POSITIVE': True, 'NEGATIVE': False}  \n",
       "4    {'POSITIVE': True, 'NEGATIVE': False}  \n",
       "..                                     ...  \n",
       "162  {'POSITIVE': False, 'NEGATIVE': True}  \n",
       "163  {'POSITIVE': False, 'NEGATIVE': True}  \n",
       "164  {'POSITIVE': False, 'NEGATIVE': True}  \n",
       "165  {'POSITIVE': False, 'NEGATIVE': True}  \n",
       "166  {'POSITIVE': True, 'NEGATIVE': False}  \n",
       "\n",
       "[167 rows x 3 columns]"
      ]
     },
     "execution_count": 7,
     "metadata": {},
     "output_type": "execute_result"
    }
   ],
   "source": [
    "train_data_raw"
   ]
  },
  {
   "cell_type": "code",
   "execution_count": 8,
   "id": "99e0ba77",
   "metadata": {},
   "outputs": [],
   "source": [
    "train_list = [[i.title, {\"cats\": i.cats}] for i in train_data_raw.itertuples()]"
   ]
  },
  {
   "cell_type": "code",
   "execution_count": 9,
   "id": "bc449bb1",
   "metadata": {},
   "outputs": [],
   "source": [
    "random.shuffle(train_list)"
   ]
  },
  {
   "cell_type": "code",
   "execution_count": 10,
   "id": "05294e28",
   "metadata": {
    "scrolled": false
   },
   "outputs": [],
   "source": [
    "train = random.sample(train_list, k = round(len(train_list)*.6))\n",
    "temp = [i for i in train_list if i not in train]\n",
    "dev = random.sample(temp, k = round(len(temp)*.5))\n",
    "test = [i for i in train_list if i not in train and i not in dev]"
   ]
  },
  {
   "cell_type": "code",
   "execution_count": 11,
   "id": "0217e5f8",
   "metadata": {},
   "outputs": [
    {
     "name": "stdout",
     "output_type": "stream",
     "text": [
      "100 33 33\n"
     ]
    }
   ],
   "source": [
    "print(len(train), len(test), len(dev))"
   ]
  },
  {
   "cell_type": "code",
   "execution_count": 12,
   "id": "33b127fa",
   "metadata": {},
   "outputs": [],
   "source": [
    "# load the nlp model to the train\n",
    "nlp = spacy.load(\"es_core_news_sm\")"
   ]
  },
  {
   "cell_type": "code",
   "execution_count": 13,
   "id": "10f0b99d",
   "metadata": {
    "scrolled": true
   },
   "outputs": [
    {
     "name": "stdout",
     "output_type": "stream",
     "text": [
      "{'POSITIVE': False, 'NEGATIVE': True}\n",
      "{'POSITIVE': False, 'NEGATIVE': True}\n",
      "{'POSITIVE': True, 'NEGATIVE': False}\n",
      "{'POSITIVE': False, 'NEGATIVE': True}\n",
      "{'POSITIVE': False, 'NEGATIVE': True}\n",
      "{'POSITIVE': False, 'NEGATIVE': True}\n",
      "{'POSITIVE': False, 'NEGATIVE': True}\n",
      "{'POSITIVE': False, 'NEGATIVE': True}\n",
      "{'POSITIVE': False, 'NEGATIVE': True}\n",
      "{'POSITIVE': True, 'NEGATIVE': False}\n",
      "{'POSITIVE': False, 'NEGATIVE': True}\n",
      "{'POSITIVE': True, 'NEGATIVE': False}\n",
      "{'POSITIVE': True, 'NEGATIVE': False}\n",
      "{'POSITIVE': False, 'NEGATIVE': True}\n",
      "{'POSITIVE': True, 'NEGATIVE': False}\n",
      "{'POSITIVE': False, 'NEGATIVE': True}\n",
      "{'POSITIVE': True, 'NEGATIVE': False}\n",
      "{'POSITIVE': False, 'NEGATIVE': True}\n",
      "{'POSITIVE': True, 'NEGATIVE': False}\n",
      "{'POSITIVE': True, 'NEGATIVE': False}\n",
      "{'POSITIVE': True, 'NEGATIVE': False}\n",
      "{'POSITIVE': False, 'NEGATIVE': True}\n",
      "{'POSITIVE': False, 'NEGATIVE': True}\n",
      "{'POSITIVE': False, 'NEGATIVE': True}\n",
      "{'POSITIVE': True, 'NEGATIVE': False}\n",
      "{'POSITIVE': True, 'NEGATIVE': False}\n",
      "{'POSITIVE': True, 'NEGATIVE': False}\n",
      "{'POSITIVE': True, 'NEGATIVE': False}\n",
      "{'POSITIVE': False, 'NEGATIVE': True}\n",
      "{'POSITIVE': False, 'NEGATIVE': True}\n",
      "{'POSITIVE': False, 'NEGATIVE': True}\n",
      "{'POSITIVE': False, 'NEGATIVE': True}\n",
      "{'POSITIVE': True, 'NEGATIVE': False}\n",
      "{'POSITIVE': False, 'NEGATIVE': True}\n",
      "{'POSITIVE': False, 'NEGATIVE': True}\n",
      "{'POSITIVE': False, 'NEGATIVE': True}\n",
      "{'POSITIVE': False, 'NEGATIVE': True}\n",
      "{'POSITIVE': True, 'NEGATIVE': False}\n",
      "{'POSITIVE': True, 'NEGATIVE': False}\n",
      "{'POSITIVE': True, 'NEGATIVE': False}\n",
      "{'POSITIVE': False, 'NEGATIVE': True}\n",
      "{'POSITIVE': False, 'NEGATIVE': True}\n",
      "{'POSITIVE': False, 'NEGATIVE': True}\n",
      "{'POSITIVE': False, 'NEGATIVE': True}\n",
      "{'POSITIVE': True, 'NEGATIVE': False}\n",
      "{'POSITIVE': False, 'NEGATIVE': True}\n",
      "{'POSITIVE': False, 'NEGATIVE': True}\n",
      "{'POSITIVE': False, 'NEGATIVE': True}\n",
      "{'POSITIVE': False, 'NEGATIVE': True}\n",
      "{'POSITIVE': True, 'NEGATIVE': False}\n",
      "{'POSITIVE': False, 'NEGATIVE': True}\n",
      "{'POSITIVE': True, 'NEGATIVE': False}\n",
      "{'POSITIVE': True, 'NEGATIVE': False}\n",
      "{'POSITIVE': False, 'NEGATIVE': True}\n",
      "{'POSITIVE': False, 'NEGATIVE': True}\n",
      "{'POSITIVE': True, 'NEGATIVE': False}\n",
      "{'POSITIVE': True, 'NEGATIVE': False}\n",
      "{'POSITIVE': False, 'NEGATIVE': True}\n",
      "{'POSITIVE': False, 'NEGATIVE': True}\n",
      "{'POSITIVE': True, 'NEGATIVE': False}\n",
      "{'POSITIVE': False, 'NEGATIVE': True}\n",
      "{'POSITIVE': False, 'NEGATIVE': True}\n",
      "{'POSITIVE': True, 'NEGATIVE': False}\n",
      "{'POSITIVE': True, 'NEGATIVE': False}\n",
      "{'POSITIVE': False, 'NEGATIVE': True}\n",
      "{'POSITIVE': False, 'NEGATIVE': True}\n",
      "{'POSITIVE': False, 'NEGATIVE': True}\n",
      "{'POSITIVE': False, 'NEGATIVE': True}\n",
      "{'POSITIVE': True, 'NEGATIVE': False}\n",
      "{'POSITIVE': False, 'NEGATIVE': True}\n",
      "{'POSITIVE': False, 'NEGATIVE': True}\n",
      "{'POSITIVE': True, 'NEGATIVE': False}\n",
      "{'POSITIVE': True, 'NEGATIVE': False}\n",
      "{'POSITIVE': True, 'NEGATIVE': False}\n",
      "{'POSITIVE': False, 'NEGATIVE': True}\n",
      "{'POSITIVE': False, 'NEGATIVE': True}\n",
      "{'POSITIVE': False, 'NEGATIVE': True}\n",
      "{'POSITIVE': False, 'NEGATIVE': True}\n",
      "{'POSITIVE': True, 'NEGATIVE': False}\n",
      "{'POSITIVE': True, 'NEGATIVE': False}\n",
      "{'POSITIVE': False, 'NEGATIVE': True}\n",
      "{'POSITIVE': True, 'NEGATIVE': False}\n",
      "{'POSITIVE': False, 'NEGATIVE': True}\n",
      "{'POSITIVE': False, 'NEGATIVE': True}\n",
      "{'POSITIVE': False, 'NEGATIVE': True}\n",
      "{'POSITIVE': True, 'NEGATIVE': False}\n",
      "{'POSITIVE': False, 'NEGATIVE': True}\n",
      "{'POSITIVE': False, 'NEGATIVE': True}\n",
      "{'POSITIVE': False, 'NEGATIVE': True}\n",
      "{'POSITIVE': True, 'NEGATIVE': False}\n",
      "{'POSITIVE': True, 'NEGATIVE': False}\n",
      "{'POSITIVE': True, 'NEGATIVE': False}\n",
      "{'POSITIVE': False, 'NEGATIVE': True}\n",
      "{'POSITIVE': True, 'NEGATIVE': False}\n",
      "{'POSITIVE': False, 'NEGATIVE': True}\n",
      "{'POSITIVE': False, 'NEGATIVE': True}\n",
      "{'POSITIVE': True, 'NEGATIVE': False}\n",
      "{'POSITIVE': True, 'NEGATIVE': False}\n",
      "{'POSITIVE': False, 'NEGATIVE': True}\n",
      "{'POSITIVE': False, 'NEGATIVE': True}\n"
     ]
    }
   ],
   "source": [
    "# the DocBin will store the example documents\n",
    "db = DocBin()\n",
    "docs = []\n",
    "\n",
    "for element in train:\n",
    "    doc = nlp(element[0])\n",
    "    doc.cats = element[1]['cats']\n",
    "    print(doc.cats)\n",
    "    db.add(doc)\n",
    "db.to_disk(\"./train-stuff/train.spacy\")"
   ]
  },
  {
   "cell_type": "code",
   "execution_count": 14,
   "id": "5aab2dc9",
   "metadata": {
    "scrolled": true
   },
   "outputs": [
    {
     "name": "stdout",
     "output_type": "stream",
     "text": [
      "{'POSITIVE': True, 'NEGATIVE': False}\n",
      "{'POSITIVE': False, 'NEGATIVE': True}\n",
      "{'POSITIVE': True, 'NEGATIVE': False}\n",
      "{'POSITIVE': False, 'NEGATIVE': True}\n",
      "{'POSITIVE': False, 'NEGATIVE': True}\n",
      "{'POSITIVE': False, 'NEGATIVE': True}\n",
      "{'POSITIVE': True, 'NEGATIVE': False}\n",
      "{'POSITIVE': False, 'NEGATIVE': True}\n",
      "{'POSITIVE': False, 'NEGATIVE': True}\n",
      "{'POSITIVE': False, 'NEGATIVE': True}\n",
      "{'POSITIVE': False, 'NEGATIVE': True}\n",
      "{'POSITIVE': False, 'NEGATIVE': True}\n",
      "{'POSITIVE': False, 'NEGATIVE': True}\n",
      "{'POSITIVE': False, 'NEGATIVE': True}\n",
      "{'POSITIVE': False, 'NEGATIVE': True}\n",
      "{'POSITIVE': False, 'NEGATIVE': True}\n",
      "{'POSITIVE': True, 'NEGATIVE': False}\n",
      "{'POSITIVE': False, 'NEGATIVE': True}\n",
      "{'POSITIVE': True, 'NEGATIVE': False}\n",
      "{'POSITIVE': True, 'NEGATIVE': False}\n",
      "{'POSITIVE': True, 'NEGATIVE': False}\n",
      "{'POSITIVE': True, 'NEGATIVE': False}\n",
      "{'POSITIVE': False, 'NEGATIVE': True}\n",
      "{'POSITIVE': False, 'NEGATIVE': True}\n",
      "{'POSITIVE': True, 'NEGATIVE': False}\n",
      "{'POSITIVE': True, 'NEGATIVE': False}\n",
      "{'POSITIVE': True, 'NEGATIVE': False}\n",
      "{'POSITIVE': False, 'NEGATIVE': True}\n",
      "{'POSITIVE': False, 'NEGATIVE': True}\n",
      "{'POSITIVE': False, 'NEGATIVE': True}\n",
      "{'POSITIVE': True, 'NEGATIVE': False}\n",
      "{'POSITIVE': True, 'NEGATIVE': False}\n",
      "{'POSITIVE': False, 'NEGATIVE': True}\n"
     ]
    }
   ],
   "source": [
    "# the DocBin will store the example documents\n",
    "db = DocBin()\n",
    "docs = []\n",
    "\n",
    "for element in test:\n",
    "    doc = nlp(element[0])\n",
    "    doc.cats = element[1]['cats']\n",
    "    print(doc.cats)\n",
    "    db.add(doc)\n",
    "db.to_disk(\"./train-stuff/dev.spacy\")"
   ]
  },
  {
   "cell_type": "code",
   "execution_count": 15,
   "id": "c1acf765",
   "metadata": {
    "scrolled": true
   },
   "outputs": [
    {
     "data": {
      "text/plain": [
       "[['¡Ofertón en Amazon!: Esta Tablet con Windows 10 tiene un descuento de 60€',\n",
       "  {'cats': {'POSITIVE': True, 'NEGATIVE': False}}],\n",
       " ['Asesinan a padre que se opuso a robo',\n",
       "  {'cats': {'POSITIVE': False, 'NEGATIVE': True}}],\n",
       " ['Día del Orgasmo Femenino: 5 curiosidades científicas sobre esta maravillosa y compleja experiencia',\n",
       "  {'cats': {'POSITIVE': True, 'NEGATIVE': False}}],\n",
       " ['Violencia machista y crimen organizado, conflictos a los que se enfrenta la gobernadora de Colima',\n",
       "  {'cats': {'POSITIVE': False, 'NEGATIVE': True}}],\n",
       " ['El calor mata: la mortalidad se dispara en las olas cada vez más extremas',\n",
       "  {'cats': {'POSITIVE': False, 'NEGATIVE': True}}],\n",
       " ['La odisea de una mujer hostigada por un \"trapito\" en la ciudad de Santa Fe',\n",
       "  {'cats': {'POSITIVE': False, 'NEGATIVE': True}}],\n",
       " ['Johnny Depp volverá como director al cine y Al Pacino será su productor',\n",
       "  {'cats': {'POSITIVE': True, 'NEGATIVE': False}}],\n",
       " ['Una madre y su hija, acusadas de aborto ilegal en EEUU después de que Facebook entregase sus chats a la policía',\n",
       "  {'cats': {'POSITIVE': False, 'NEGATIVE': True}}],\n",
       " ['Un ahorrista tomó un banco en Beirut: exige que le devuelvan su dinero para pagar el tratamiento de su padre enfermo',\n",
       "  {'cats': {'POSITIVE': False, 'NEGATIVE': True}}],\n",
       " ['Imágenes satelitales muestran aviones de combate rusos destrozados tras el ataque a la base aérea de Crimea',\n",
       "  {'cats': {'POSITIVE': False, 'NEGATIVE': True}}],\n",
       " ['Quién es Henrique Velozo, el militar acusado de matar de un tiro en la cabeza al campeón de Jiu Jitsu',\n",
       "  {'cats': {'POSITIVE': False, 'NEGATIVE': True}}],\n",
       " ['Changuitos vacíos: por la crisis, los santafesinos reducen las compras en el súper',\n",
       "  {'cats': {'POSITIVE': False, 'NEGATIVE': True}}],\n",
       " ['Diabetes: estas son las mejores infusiones para bajar el azúcar en sangre rápidamente',\n",
       "  {'cats': {'POSITIVE': False, 'NEGATIVE': True}}],\n",
       " ['Falleció mujer de 62 años por choque entre auto y patrulla en Avenida Varela y Serrato',\n",
       "  {'cats': {'POSITIVE': False, 'NEGATIVE': True}}],\n",
       " ['Rage Against the Machine cancela el resto de sus shows de 2022: ¿peligra su visita a Chile?',\n",
       "  {'cats': {'POSITIVE': False, 'NEGATIVE': True}}],\n",
       " ['Destructivo ataque contra base aérea rusa en Crimea envía señal de alerta a Moscú',\n",
       "  {'cats': {'POSITIVE': False, 'NEGATIVE': True}}],\n",
       " ['Taylor Swift y Bad Bunny hacen historia en los MTV VMAS 2022',\n",
       "  {'cats': {'POSITIVE': True, 'NEGATIVE': False}}],\n",
       " ['Sismo de magnitud 5.1 con epicentro en Michoacán despierta a los capitalinos',\n",
       "  {'cats': {'POSITIVE': False, 'NEGATIVE': True}}],\n",
       " ['El componente oculto del chocolate que cuida de tu corazón: así protege las arterias',\n",
       "  {'cats': {'POSITIVE': True, 'NEGATIVE': False}}],\n",
       " ['Por qué Uruguay tiene la moneda que más se fortalece frente al dólar en América Latina',\n",
       "  {'cats': {'POSITIVE': True, 'NEGATIVE': False}}],\n",
       " ['Una tecnológica japonesa sumará 150 empleados en Argentina: qué perfiles busca y cómo postularse',\n",
       "  {'cats': {'POSITIVE': True, 'NEGATIVE': False}}],\n",
       " ['Tesla publica una nueva imagen de su supercomputadora mejorada, de las mejores del mundo',\n",
       "  {'cats': {'POSITIVE': True, 'NEGATIVE': False}}],\n",
       " ['Drogas para manipular, chicas explotadas como “geishas” y US$ 10.000 de cuota para adorar al líder: así funcionaba la secta de Villa Crespo',\n",
       "  {'cats': {'POSITIVE': False, 'NEGATIVE': True}}],\n",
       " ['La guerra por el “Oro de Oaxaca”: despojo y miseria',\n",
       "  {'cats': {'POSITIVE': False, 'NEGATIVE': True}}],\n",
       " ['Los 4 mejores aceites de CBD: qué es el CDB, propiedades y beneficios para la salud',\n",
       "  {'cats': {'POSITIVE': True, 'NEGATIVE': False}}],\n",
       " ['Manga de One Piece sobrepasa las 500 millones de copias alrededor del mundo',\n",
       "  {'cats': {'POSITIVE': True, 'NEGATIVE': False}}],\n",
       " ['Aprender durante toda la vida',\n",
       "  {'cats': {'POSITIVE': True, 'NEGATIVE': False}}],\n",
       " ['Alerta celulares: las 5 amenazas más peligrosas de este 2022 y cómo protegerse',\n",
       "  {'cats': {'POSITIVE': False, 'NEGATIVE': True}}],\n",
       " ['Brutal asalto a un estadounidense de 81 años en Mendoza: le robaron más de $ 1.500.000',\n",
       "  {'cats': {'POSITIVE': False, 'NEGATIVE': True}}],\n",
       " ['La Anmat prohibió la elaboración y comercialización de un aceite de oliva',\n",
       "  {'cats': {'POSITIVE': False, 'NEGATIVE': True}}],\n",
       " ['México es autosuficiente en producción de maíz blanco y frijol: AMLO',\n",
       "  {'cats': {'POSITIVE': True, 'NEGATIVE': False}}],\n",
       " ['Dos nuevos buques con cereales zarparon desde Ucrania con rumbo a Estambul',\n",
       "  {'cats': {'POSITIVE': True, 'NEGATIVE': False}}],\n",
       " ['A los 73 años, murió Olivia Newton-John',\n",
       "  {'cats': {'POSITIVE': False, 'NEGATIVE': True}}]]"
      ]
     },
     "execution_count": 15,
     "metadata": {},
     "output_type": "execute_result"
    }
   ],
   "source": [
    "test"
   ]
  },
  {
   "cell_type": "code",
   "execution_count": 17,
   "id": "a032ed1b",
   "metadata": {
    "scrolled": false
   },
   "outputs": [
    {
     "name": "stdout",
     "output_type": "stream",
     "text": [
      "[i] Saving to output directory: textcat-model\n",
      "[i] Using GPU: 0\n",
      "\u001b[1m\n",
      "=========================== Initializing pipeline ===========================\u001b[0m\n",
      "[+] Initialized pipeline\n",
      "\u001b[1m\n",
      "============================= Training pipeline =============================\u001b[0m\n",
      "[i] Pipeline: ['textcat']\n",
      "[i] Initial learn rate: 0.0\n",
      "E    #       LOSS TEXTCAT  CATS_SCORE  SCORE \n",
      "---  ------  ------------  ----------  ------\n",
      "  0       0          1.00       28.26    0.28\n",
      "100     200        186.76       52.55    0.53\n",
      "200     400        125.31       52.55    0.53\n",
      "300     600         73.06       58.75    0.59\n",
      "400     800         45.41       64.35    0.64\n",
      "500    1000         30.15       74.13    0.74\n",
      "600    1200         21.32       74.13    0.74\n",
      "700    1400         15.36       78.48    0.78\n",
      "800    1600         11.07       78.48    0.78\n",
      "900    1800          8.00       86.36    0.86\n",
      "1000    2000          5.77       89.99    0.90\n",
      "1100    2200          4.22       89.99    0.90\n",
      "1200    2400          3.11       89.99    0.90\n",
      "1300    2600          2.41       89.99    0.90\n",
      "1400    2800          1.94       89.99    0.90\n",
      "1500    3000          1.61       89.99    0.90\n",
      "1600    3200          1.35       89.99    0.90\n",
      "1700    3400          1.16       89.99    0.90\n",
      "1800    3600          1.01       86.90    0.87\n",
      "[+] Saved pipeline to output directory\n",
      "textcat-model\\model-last\n"
     ]
    },
    {
     "name": "stderr",
     "output_type": "stream",
     "text": [
      "[2022-09-11 21:42:25,252] [INFO] Set up nlp object from config\n",
      "[2022-09-11 21:42:25,264] [INFO] Pipeline: ['textcat']\n",
      "[2022-09-11 21:42:25,267] [INFO] Created vocabulary\n",
      "[2022-09-11 21:42:25,268] [INFO] Finished initializing nlp object\n",
      "[2022-09-11 21:42:28,287] [INFO] Initialized pipeline components: ['textcat']\n"
     ]
    }
   ],
   "source": [
    "# Kernel that initialize the training\n",
    "!python -m spacy train ./train-stuff/config.cfg --paths.train ./train-stuff/train.spacy --paths.dev ./train-stuff/dev.spacy --output ./textcat-model/ --gpu-id 0"
   ]
  },
  {
   "cell_type": "markdown",
   "id": "6a16a35a",
   "metadata": {},
   "source": [
    "## Testing"
   ]
  },
  {
   "cell_type": "markdown",
   "id": "332efef9",
   "metadata": {},
   "source": [
    "This machine learning model was tested by the F1-Score. Which is a measure of accuracy. It's calculated from the precision and recall of the test"
   ]
  },
  {
   "cell_type": "markdown",
   "id": "2f4ca263",
   "metadata": {},
   "source": [
    "Accuracy is not the best test when you have class imbalance. Therefore I used F1-Score"
   ]
  },
  {
   "cell_type": "code",
   "execution_count": 23,
   "id": "deb70f64",
   "metadata": {},
   "outputs": [
    {
     "data": {
      "text/plain": [
       "{'TrueNegative': 20,\n",
       " 'FalseNegative': 3,\n",
       " 'TruePositive': 10,\n",
       " 'FalsePositive': 0}"
      ]
     },
     "execution_count": 23,
     "metadata": {},
     "output_type": "execute_result"
    }
   ],
   "source": [
    "e = evaluate(test)\n",
    "e"
   ]
  },
  {
   "cell_type": "code",
   "execution_count": 24,
   "id": "20ac439d",
   "metadata": {},
   "outputs": [],
   "source": [
    "p, n = 0, 0\n",
    "for i in test:\n",
    "    if i[1]['cats']['POSITIVE'] == True:\n",
    "        p+=1\n",
    "    else:\n",
    "        n+=1\n"
   ]
  },
  {
   "cell_type": "code",
   "execution_count": 25,
   "id": "eb52d930",
   "metadata": {},
   "outputs": [
    {
     "data": {
      "image/png": "[encoded data removed]",
      "text/plain": [
       "<Figure size 640x480 with 1 Axes>"
      ]
     },
     "metadata": {},
     "output_type": "display_data"
    }
   ],
   "source": [
    "test_df = pd.DataFrame([n,p], index=['negative', 'positive']).plot.bar()"
   ]
  },
  {
   "cell_type": "code",
   "execution_count": 26,
   "id": "1893b6e5",
   "metadata": {},
   "outputs": [
    {
     "data": {
      "text/plain": [
       "0.9090909090909091"
      ]
     },
     "execution_count": 26,
     "metadata": {},
     "output_type": "execute_result"
    }
   ],
   "source": [
    "accuracy = (e['TrueNegative'] + e['TruePositive']) / (e['TrueNegative'] + e['FalseNegative'] + e['TruePositive'] + e['FalsePositive'])\n",
    "accuracy"
   ]
  },
  {
   "cell_type": "code",
   "execution_count": 27,
   "id": "4be25f1a",
   "metadata": {},
   "outputs": [
    {
     "data": {
      "text/plain": [
       "100.0"
      ]
     },
     "execution_count": 27,
     "metadata": {},
     "output_type": "execute_result"
    }
   ],
   "source": [
    "precision = e['TruePositive'] / (e['TruePositive'] + e['FalsePositive'])\n",
    "precision_percentage = round(precision*100, 2)\n",
    "precision_percentage"
   ]
  },
  {
   "cell_type": "code",
   "execution_count": 28,
   "id": "e148cb06",
   "metadata": {},
   "outputs": [
    {
     "data": {
      "text/plain": [
       "86.96"
      ]
     },
     "execution_count": 28,
     "metadata": {},
     "output_type": "execute_result"
    }
   ],
   "source": [
    "recall = e['TrueNegative'] / (e['TrueNegative'] + e['FalseNegative'])\n",
    "recall_percentage = round(recall*100, 2)\n",
    "recall_percentage"
   ]
  },
  {
   "cell_type": "code",
   "execution_count": 29,
   "id": "182bc7f8",
   "metadata": {},
   "outputs": [
    {
     "data": {
      "text/plain": [
       "93.02"
      ]
     },
     "execution_count": 29,
     "metadata": {},
     "output_type": "execute_result"
    }
   ],
   "source": [
    "f1_score = (2 * precision * recall) / (precision + recall)\n",
    "f1_score = round(f1_score*100, 2)\n",
    "f1_score"
   ]
  }
 ],
 "metadata": {
  "kernelspec": {
   "display_name": "Python 3 (ipykernel)",
   "language": "python",
   "name": "python3"
  },
  "language_info": {
   "codemirror_mode": {
    "name": "ipython",
    "version": 3
   },
   "file_extension": ".py",
   "mimetype": "text/x-python",
   "name": "python",
   "nbconvert_exporter": "python",
   "pygments_lexer": "ipython3",
   "version": "3.9.13"
  }
 },
 "nbformat": 4,
 "nbformat_minor": 5
}
