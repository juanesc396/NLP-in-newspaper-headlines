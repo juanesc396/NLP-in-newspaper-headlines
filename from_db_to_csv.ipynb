{
 "cells": [
  {
   "cell_type": "code",
   "execution_count": 1,
   "id": "ea184a41",
   "metadata": {},
   "outputs": [],
   "source": [
    "import pandas as pd\n",
    "import pymongo"
   ]
  },
  {
   "cell_type": "code",
   "execution_count": 2,
   "id": "6453665c",
   "metadata": {},
   "outputs": [
    {
     "data": {
      "text/plain": [
       "['Spain', 'Uruguay', 'Mexico', 'Chile', 'Argentina']"
      ]
     },
     "execution_count": 2,
     "metadata": {},
     "output_type": "execute_result"
    }
   ],
   "source": [
    "# Connecting with the database.\n",
    "myclient = pymongo.MongoClient(\"mongodb://localhost:27017/\")\n",
    "\n",
    "mydb = myclient['Newspapers']\n",
    "mydb.list_collection_names()"
   ]
  },
  {
   "cell_type": "code",
   "execution_count": 3,
   "id": "5290bd5f",
   "metadata": {
    "scrolled": true
   },
   "outputs": [],
   "source": [
    "# Extracting all the titles that are in Spanish into a list.\n",
    "to_df = []\n",
    "for col in mydb.list_collection_names():\n",
    "    for d in mydb[col].find():\n",
    "        if d['title'] != None and d['language'] == 'Spanish':\n",
    "            to_df.append(d['title'].strip('\\n').strip().replace(u'\\xa0', u' '))\n",
    "to_df = [i for i in to_df if i!='']"
   ]
  },
  {
   "cell_type": "code",
   "execution_count": 4,
   "id": "044b1121",
   "metadata": {},
   "outputs": [
    {
     "data": {
      "text/plain": [
       "10429"
      ]
     },
     "execution_count": 4,
     "metadata": {},
     "output_type": "execute_result"
    }
   ],
   "source": [
    "len(to_df)"
   ]
  },
  {
   "cell_type": "code",
   "execution_count": 5,
   "id": "a4019fed",
   "metadata": {},
   "outputs": [],
   "source": [
    "# Creating a DataFrame with the list. Then adding a new column called 'title' and droping duplicate titles\n",
    "titles_df = pd.DataFrame(columns = ['title', 'valoration'])\n",
    "titles_df['title'] = to_df\n",
    "titles_df.drop_duplicates('title', inplace=True)"
   ]
  },
  {
   "cell_type": "code",
   "execution_count": 7,
   "id": "6f86ad22",
   "metadata": {},
   "outputs": [],
   "source": [
    "# Saving the dataset into a .csv file\n",
    "titles_df.to_csv('./datasets/newspaper_dataset.csv', index=False, encoding='cp1252', errors='ignore', sep='\\t')"
   ]
  }
 ],
 "metadata": {
  "kernelspec": {
   "display_name": "Python 3 (ipykernel)",
   "language": "python",
   "name": "python3"
  },
  "language_info": {
   "codemirror_mode": {
    "name": "ipython",
    "version": 3
   },
   "file_extension": ".py",
   "mimetype": "text/x-python",
   "name": "python",
   "nbconvert_exporter": "python",
   "pygments_lexer": "ipython3",
   "version": "3.9.13"
  }
 },
 "nbformat": 4,
 "nbformat_minor": 5
}
